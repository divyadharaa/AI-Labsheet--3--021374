{
  "nbformat": 4,
  "nbformat_minor": 0,
  "metadata": {
    "colab": {
      "provenance": [],
      "authorship_tag": "ABX9TyNIbEUSVzFix51OFBrsKuEk",
      "include_colab_link": true
    },
    "kernelspec": {
      "name": "python3",
      "display_name": "Python 3"
    },
    "language_info": {
      "name": "python"
    }
  },
  "cells": [
    {
      "cell_type": "markdown",
      "metadata": {
        "id": "view-in-github",
        "colab_type": "text"
      },
      "source": [
        "<a href=\"https://colab.research.google.com/github/divyadharaa/AI-Labsheet--3--021374/blob/main/lab3.ipynb\" target=\"_parent\"><img src=\"https://colab.research.google.com/assets/colab-badge.svg\" alt=\"Open In Colab\"/></a>"
      ]
    },
    {
      "cell_type": "markdown",
      "source": [
        "#**AI LABSHEET: AGENTS AND KNN**\n",
        "\n",
        "\n",
        "**Name**: Salina Kunwar\n",
        "\n",
        "\n",
        "\n"
      ],
      "metadata": {
        "id": "O2n-ZO6z-T6N"
      }
    },
    {
      "cell_type": "markdown",
      "source": [
        "**# AGENTS**"
      ],
      "metadata": {
        "id": "ny-z1fpk-ui7"
      }
    },
    {
      "cell_type": "code",
      "source": [
        "import matplotlib.pyplot as plt\n",
        "import random\n",
        "import time\n",
        "\n",
        "# Initialize 2x2 grid environment with all dirty\n",
        "grid = {\n",
        "    (0, 0): 'Dirty',\n",
        "    (0, 1): 'Dirty',\n",
        "    (1, 0): 'Dirty',\n",
        "    (1, 1): 'Dirty'\n",
        "}\n",
        "\n",
        "# Agent starts at (0, 0)\n",
        "agent_pos = (0, 0)\n",
        "\n",
        "# Simple reflex agent function\n",
        "def reflex_agent(position, status):\n",
        "    if status == 'Dirty':\n",
        "        return 'Clean'\n",
        "    else:\n",
        "        # Random movement (up/down/left/right) within grid\n",
        "        moves = {\n",
        "            'up': (position[0]-1, position[1]),\n",
        "            'down': (position[0]+1, position[1]),\n",
        "            'left': (position[0], position[1]-1),\n",
        "            'right': (position[0], position[1]+1)\n",
        "        }\n",
        "        valid_moves = [pos for pos in moves.values() if pos in grid]\n",
        "        return random.choice(valid_moves)\n",
        "\n",
        "# Visualization function\n",
        "def visualize(grid, agent_pos, step):\n",
        "    color_map = {'Clean': 'lightgreen', 'Dirty': 'salmon'}\n",
        "    fig, ax = plt.subplots()\n",
        "    plt.title(f\"Step {step}\")\n",
        "\n",
        "    # 4 grid cells are drawn\n",
        "    for x in [0, 1]:\n",
        "        for y in [0, 1]:\n",
        "            status = grid.get((x, y), 'Dirty')\n",
        "            # Draw each room\n",
        "            rect = plt.Rectangle((y, 1 - x), 1, 1, facecolor=color_map[status], edgecolor='black')\n",
        "            ax.add_patch(rect)\n",
        "\n",
        "            # Draw agent\n",
        "            if (x, y) == agent_pos:\n",
        "                ax.text(y + 0.5, 1 - x + 0.5, '🤖', ha='center', va='center', fontsize=20)\n",
        "\n",
        "    # Set correct plot limits and formatting\n",
        "    ax.set_xlim(0, 2)\n",
        "    ax.set_ylim(0, 2)\n",
        "    ax.set_xticks([])\n",
        "    ax.set_yticks([])\n",
        "    ax.set_aspect('equal')\n",
        "    plt.pause(1.0)\n",
        "    plt.close()\n",
        "\n",
        "\n",
        "\n",
        "# Keep track of visited positions\n",
        "visited = set()\n",
        "\n",
        "# Improved reflex agent (cleans or visits new cells)\n",
        "def reflex_agent(position, status):\n",
        "    if status == 'Dirty':\n",
        "        return 'Clean'\n",
        "    else:\n",
        "        # Move to any unvisited or randomly if all visited\n",
        "        possible_moves = [\n",
        "            (0, 0), (0, 1),\n",
        "            (1, 0), (1, 1)\n",
        "        ]\n",
        "        unvisited = [pos for pos in possible_moves if pos not in visited]\n",
        "        if unvisited:\n",
        "            return unvisited[0]  # visit next unvisited\n",
        "        else:\n",
        "            return random.choice(possible_moves)  # fallback\n",
        "\n",
        "# Simulation loop (run until all rooms are clean)\n",
        "step = 1\n",
        "while 'Dirty' in grid.values():\n",
        "    status = grid[agent_pos]\n",
        "    action = reflex_agent(agent_pos, status)\n",
        "\n",
        "    print(f\"Step {step}: Agent at {agent_pos}, Status: {status}, Action: {action}\")\n",
        "\n",
        "    if action == 'Clean':\n",
        "        grid[agent_pos] = 'Clean'\n",
        "        visited.add(agent_pos)\n",
        "    else:\n",
        "        agent_pos = action\n",
        "\n",
        "    visualize(grid, agent_pos, step)\n",
        "    step += 1\n"
      ],
      "metadata": {
        "colab": {
          "base_uri": "https://localhost:8080/",
          "height": 1000
        },
        "id": "IiXiAcpQ-zUH",
        "outputId": "98934525-36ba-46e4-9eb0-b90c9b8c977d"
      },
      "execution_count": 1,
      "outputs": [
        {
          "output_type": "stream",
          "name": "stdout",
          "text": [
            "Step 1: Agent at (0, 0), Status: Dirty, Action: Clean\n"
          ]
        },
        {
          "output_type": "stream",
          "name": "stderr",
          "text": [
            "/tmp/ipython-input-1-4288610165.py:55: UserWarning: Glyph 129302 (\\N{ROBOT FACE}) missing from font(s) DejaVu Sans.\n",
            "  plt.pause(1.0)\n",
            "/usr/local/lib/python3.11/dist-packages/IPython/core/pylabtools.py:151: UserWarning: Glyph 129302 (\\N{ROBOT FACE}) missing from font(s) DejaVu Sans.\n",
            "  fig.canvas.print_figure(bytes_io, **kw)\n"
          ]
        },
        {
          "output_type": "display_data",
          "data": {
            "text/plain": [
              "<Figure size 640x480 with 1 Axes>"
            ],
            "image/png": "[encoded data removed]"
          },
          "metadata": {}
        },
        {
          "output_type": "stream",
          "name": "stdout",
          "text": [
            "Step 2: Agent at (0, 0), Status: Clean, Action: (0, 1)\n"
          ]
        },
        {
          "output_type": "display_data",
          "data": {
            "text/plain": [
              "<Figure size 640x480 with 1 Axes>"
            ],
            "image/png": "[encoded data removed]"
          },
          "metadata": {}
        },
        {
          "output_type": "stream",
          "name": "stdout",
          "text": [
            "Step 3: Agent at (0, 1), Status: Dirty, Action: Clean\n"
          ]
        },
        {
          "output_type": "display_data",
          "data": {
            "text/plain": [
              "<Figure size 640x480 with 1 Axes>"
            ],
            "image/png": "[encoded data removed]"
          },
          "metadata": {}
        },
        {
          "output_type": "stream",
          "name": "stdout",
          "text": [
            "Step 4: Agent at (0, 1), Status: Clean, Action: (1, 0)\n"
          ]
        },
        {
          "output_type": "stream",
          "name": "stderr",
          "text": [
            "/tmp/ipython-input-1-4288610165.py:55: UserWarning: Glyph 129302 (\\N{ROBOT FACE}) missing from font(s) DejaVu Sans.\n",
            "  plt.pause(1.0)\n",
            "/usr/local/lib/python3.11/dist-packages/IPython/core/pylabtools.py:151: UserWarning: Glyph 129302 (\\N{ROBOT FACE}) missing from font(s) DejaVu Sans.\n",
            "  fig.canvas.print_figure(bytes_io, **kw)\n"
          ]
        },
        {
          "output_type": "display_data",
          "data": {
            "text/plain": [
              "<Figure size 640x480 with 1 Axes>"
            ],
            "image/png": "[encoded data removed]"
          },
          "metadata": {}
        },
        {
          "output_type": "stream",
          "name": "stdout",
          "text": [
            "Step 5: Agent at (1, 0), Status: Dirty, Action: Clean\n"
          ]
        },
        {
          "output_type": "stream",
          "name": "stderr",
          "text": [
            "/tmp/ipython-input-1-4288610165.py:55: UserWarning: Glyph 129302 (\\N{ROBOT FACE}) missing from font(s) DejaVu Sans.\n",
            "  plt.pause(1.0)\n",
            "/usr/local/lib/python3.11/dist-packages/IPython/core/pylabtools.py:151: UserWarning: Glyph 129302 (\\N{ROBOT FACE}) missing from font(s) DejaVu Sans.\n",
            "  fig.canvas.print_figure(bytes_io, **kw)\n"
          ]
        },
        {
          "output_type": "display_data",
          "data": {
            "text/plain": [
              "<Figure size 640x480 with 1 Axes>"
            ],
            "image/png": "[encoded data removed]"
          },
          "metadata": {}
        },
        {
          "output_type": "stream",
          "name": "stdout",
          "text": [
            "Step 6: Agent at (1, 0), Status: Clean, Action: (1, 1)\n"
          ]
        },
        {
          "output_type": "stream",
          "name": "stderr",
          "text": [
            "/tmp/ipython-input-1-4288610165.py:55: UserWarning: Glyph 129302 (\\N{ROBOT FACE}) missing from font(s) DejaVu Sans.\n",
            "  plt.pause(1.0)\n",
            "/usr/local/lib/python3.11/dist-packages/IPython/core/pylabtools.py:151: UserWarning: Glyph 129302 (\\N{ROBOT FACE}) missing from font(s) DejaVu Sans.\n",
            "  fig.canvas.print_figure(bytes_io, **kw)\n"
          ]
        },
        {
          "output_type": "display_data",
          "data": {
            "text/plain": [
              "<Figure size 640x480 with 1 Axes>"
            ],
            "image/png": "[encoded data removed]"
          },
          "metadata": {}
        },
        {
          "output_type": "stream",
          "name": "stdout",
          "text": [
            "Step 7: Agent at (1, 1), Status: Dirty, Action: Clean\n"
          ]
        },
        {
          "output_type": "stream",
          "name": "stderr",
          "text": [
            "/tmp/ipython-input-1-4288610165.py:55: UserWarning: Glyph 129302 (\\N{ROBOT FACE}) missing from font(s) DejaVu Sans.\n",
            "  plt.pause(1.0)\n",
            "/usr/local/lib/python3.11/dist-packages/IPython/core/pylabtools.py:151: UserWarning: Glyph 129302 (\\N{ROBOT FACE}) missing from font(s) DejaVu Sans.\n",
            "  fig.canvas.print_figure(bytes_io, **kw)\n"
          ]
        },
        {
          "output_type": "display_data",
          "data": {
            "text/plain": [
              "<Figure size 640x480 with 1 Axes>"
            ],
            "image/png": "[encoded data removed]"
          },
          "metadata": {}
        }
      ]
    },
    {
      "cell_type": "markdown",
      "source": [
        "# **GOAL BASED AGENT**"
      ],
      "metadata": {
        "id": "CPc8sevY_Ioa"
      }
    },
    {
      "cell_type": "code",
      "source": [
        "romania_map = {\n",
        "    'Arad': ['Zerind', 'Sibiu', 'Timisoara'],\n",
        "    'Zerind': ['Arad', 'Oradea'],\n",
        "    'Oradea': ['Zerind', 'Sibiu'],\n",
        "    'Sibiu': ['Arad', 'Oradea', 'Fagaras', 'Rimnicu Vilcea'],\n",
        "    'Fagaras': ['Sibiu', 'Bucharest'],\n",
        "    'Rimnicu Vilcea': ['Sibiu', 'Pitesti', 'Craiova'],\n",
        "    'Timisoara': ['Arad', 'Lugoj'],\n",
        "    'Lugoj': ['Timisoara', 'Mehadia'],\n",
        "    'Mehadia': ['Lugoj', 'Drobeta'],\n",
        "    'Drobeta': ['Mehadia', 'Craiova'],\n",
        "    'Craiova': ['Drobeta', 'Rimnicu Vilcea', 'Pitesti'],\n",
        "    'Pitesti': ['Rimnicu Vilcea', 'Craiova', 'Bucharest'],\n",
        "    'Bucharest': ['Fagaras', 'Pitesti', 'Giurgiu', 'Urziceni'],\n",
        "    'Giurgiu': ['Bucharest'],\n",
        "    'Urziceni': ['Bucharest', 'Hirsova', 'Vaslui'],\n",
        "    'Hirsova': ['Urziceni', 'Eforie'],\n",
        "    'Eforie': ['Hirsova'],\n",
        "    'Vaslui': ['Urziceni', 'Iasi'],\n",
        "    'Iasi': ['Vaslui', 'Neamt'],\n",
        "    'Neamt': ['Iasi']\n",
        "}\n",
        "\n",
        "class GoalDrivenAgent:\n",
        "    def __init__(self, environment, start, goal):\n",
        "        self.environment = environment\n",
        "        self.current_city = start\n",
        "        self.goal = goal\n",
        "        self.path = [start]  # Keep track of the path taken\n",
        "\n",
        "    def perceive(self):\n",
        "        # Returns current city\n",
        "        return self.current_city\n",
        "\n",
        "    def decide_action(self):\n",
        "        if self.current_city == self.goal:\n",
        "            return None  # Goal reached\n",
        "\n",
        "        # Simple decision: move to any connected city not yet visited,\n",
        "        # or towards the goal if connected.\n",
        "        neighbors = self.environment[self.current_city]\n",
        "\n",
        "        # If goal is directly connected, move there\n",
        "        if self.goal in neighbors:\n",
        "            return self.goal\n",
        "\n",
        "        # Otherwise, pick the next city not in path to avoid cycles\n",
        "        for city in neighbors:\n",
        "            if city not in self.path:\n",
        "                return city\n",
        "\n",
        "        # If all neighbors visited, just pick first neighbor (not optimal but works)\n",
        "        return neighbors[0]\n",
        "\n",
        "    def act(self, next_city):\n",
        "        self.current_city = next_city\n",
        "        self.path.append(next_city)\n",
        "\n",
        "    def run(self):\n",
        "        print(f\"Starting at {self.current_city}, goal is {self.goal}\")\n",
        "        while self.current_city != self.goal:\n",
        "            print(f\"Current city: {self.current_city}\")\n",
        "            next_city = self.decide_action()\n",
        "            if next_city is None:\n",
        "                break\n",
        "            print(f\"Moving to: {next_city}\")\n",
        "            self.act(next_city)\n",
        "        print(f\"Goal {self.goal} reached!\")\n",
        "        print(\"Path taken:\", \" -> \".join(self.path))\n",
        "\n",
        "\n",
        "# Example usage:\n",
        "agent = GoalDrivenAgent(romania_map, start='Arad', goal='Bucharest')\n",
        "agent.run()"
      ],
      "metadata": {
        "colab": {
          "base_uri": "https://localhost:8080/"
        },
        "id": "QQTlnxGu_RCs",
        "outputId": "673b459d-6d86-476e-dc7b-3e51da4a10d2"
      },
      "execution_count": 2,
      "outputs": [
        {
          "output_type": "stream",
          "name": "stdout",
          "text": [
            "Starting at Arad, goal is Bucharest\n",
            "Current city: Arad\n",
            "Moving to: Zerind\n",
            "Current city: Zerind\n",
            "Moving to: Oradea\n",
            "Current city: Oradea\n",
            "Moving to: Sibiu\n",
            "Current city: Sibiu\n",
            "Moving to: Fagaras\n",
            "Current city: Fagaras\n",
            "Moving to: Bucharest\n",
            "Goal Bucharest reached!\n",
            "Path taken: Arad -> Zerind -> Oradea -> Sibiu -> Fagaras -> Bucharest\n"
          ]
        }
      ]
    },
    {
      "cell_type": "markdown",
      "source": [
        "# **UTILITY BASED AGENT**"
      ],
      "metadata": {
        "id": "aqn5O5ap_-MD"
      }
    },
    {
      "cell_type": "code",
      "source": [
        "# Simple Romania map neighbors\n",
        "romania_map = {\n",
        "    'Arad': ['Zerind', 'Sibiu', 'Timisoara'],\n",
        "    'Zerind': ['Arad', 'Oradea'],\n",
        "    'Oradea': ['Zerind', 'Sibiu'],\n",
        "    'Sibiu': ['Arad', 'Oradea', 'Fagaras'],\n",
        "    'Fagaras': ['Sibiu', 'Bucharest'],\n",
        "    'Timisoara': ['Arad'],\n",
        "    'Bucharest': []\n",
        "}\n",
        "\n",
        "# Simple heuristic (distance to Bucharest)\n",
        "heuristic = {\n",
        "    'Arad': 366,\n",
        "    'Zerind': 374,\n",
        "    'Oradea': 380,\n",
        "    'Sibiu': 253,\n",
        "    'Fagaras': 176,\n",
        "    'Timisoara': 329,\n",
        "    'Bucharest': 0\n",
        "}\n",
        "\n",
        "class SimpleUtilityAgent:\n",
        "    def __init__(self, environment, heuristic, start, goal):\n",
        "        self.env = environment\n",
        "        self.heuristic = heuristic\n",
        "        self.current = start\n",
        "        self.goal = goal\n",
        "        self.path = [start]\n",
        "\n",
        "    def next_move(self):\n",
        "        if self.current == self.goal:\n",
        "            return None\n",
        "        neighbors = self.env[self.current]\n",
        "        # Pick neighbor with smallest heuristic (closest to goal)\n",
        "        next_city = min(neighbors, key=lambda city: self.heuristic[city])\n",
        "        return next_city\n",
        "\n",
        "    def move(self):\n",
        "        next_city = self.next_move()\n",
        "        if next_city:\n",
        "            self.current = next_city\n",
        "            self.path.append(next_city)\n",
        "\n",
        "    def run(self):\n",
        "        print(f\"Starting at {self.current}, goal is {self.goal}\")\n",
        "        while self.current != self.goal:\n",
        "            print(f\"At {self.current}, moving to next best city...\")\n",
        "            self.move()\n",
        "        print(f\"Reached {self.goal}!\")\n",
        "        print(\"Path:\", \" -> \".join(self.path))\n",
        "\n",
        "# Run example\n",
        "agent = SimpleUtilityAgent(romania_map, heuristic, start='Arad', goal='Bucharest')\n",
        "agent.run()\n"
      ],
      "metadata": {
        "colab": {
          "base_uri": "https://localhost:8080/"
        },
        "id": "uQHNZFs2ACRP",
        "outputId": "f634aacb-5b96-4935-f1ce-bebf67abe0b3"
      },
      "execution_count": 3,
      "outputs": [
        {
          "output_type": "stream",
          "name": "stdout",
          "text": [
            "Starting at Arad, goal is Bucharest\n",
            "At Arad, moving to next best city...\n",
            "At Sibiu, moving to next best city...\n",
            "At Fagaras, moving to next best city...\n",
            "Reached Bucharest!\n",
            "Path: Arad -> Sibiu -> Fagaras -> Bucharest\n"
          ]
        }
      ]
    },
    {
      "cell_type": "markdown",
      "source": [
        "# **KNN FIXED FEATURES**"
      ],
      "metadata": {
        "id": "v22I80fzAM8k"
      }
    },
    {
      "cell_type": "code",
      "source": [
        "from collections import Counter\n",
        "import math\n",
        "\n",
        "# Example dataset: Each item is ([feature1, feature2], label)\n",
        "data = [\n",
        "    ([1, 2], 'Class A'),\n",
        "    ([2, 3], 'Class A'),\n",
        "    ([3, 3], 'Class B'),\n",
        "    ([6, 5], 'Class B')\n",
        "]\n",
        "\n",
        "# Function to calculate Euclidean distance between two points with 2 features\n",
        "def euclidean_distance(point1, point2):\n",
        "    return math.sqrt((point1[0] - point2[0])**2 + (point1[1] - point2[1])**2)\n",
        "\n",
        "# KNN function\n",
        "def knn(test_point, data, k=3):\n",
        "    distances = []\n",
        "    for features, label in data:\n",
        "        dist = euclidean_distance(test_point, features)\n",
        "        distances.append((dist, label))\n",
        "    distances.sort(key=lambda x: x[0])  # Sort by distance\n",
        "\n",
        "    # Get labels of k closest points\n",
        "    k_labels = [label for _, label in distances[:k]]\n",
        "\n",
        "    # Return the most common label among neighbors\n",
        "    most_common = Counter(k_labels).most_common(1)[0][0]\n",
        "    return most_common\n",
        "\n",
        "# Test example\n",
        "test_point = [3, 2]\n",
        "predicted_class = knn(test_point, data, k=3)\n",
        "print(f\"The test point {test_point} is classified as: {predicted_class}\")"
      ],
      "metadata": {
        "colab": {
          "base_uri": "https://localhost:8080/"
        },
        "id": "3UxHBocmAP5X",
        "outputId": "5f7fcedd-1f0b-41a5-83a8-9c98c7fe7df3"
      },
      "execution_count": 4,
      "outputs": [
        {
          "output_type": "stream",
          "name": "stdout",
          "text": [
            "The test point [3, 2] is classified as: Class A\n"
          ]
        }
      ]
    },
    {
      "cell_type": "markdown",
      "source": [
        "# **KNN ARBITRARY FEATURES**"
      ],
      "metadata": {
        "id": "xtAGqEl5AVlc"
      }
    },
    {
      "cell_type": "code",
      "source": [
        "from collections import Counter\n",
        "\n",
        "data = [\n",
        "    ([1, 2, 3], 'A'),\n",
        "    ([2, 3, 4], 'A'),\n",
        "    ([5, 5, 5], 'B'),\n",
        "    ([6, 7, 8], 'B')\n",
        "]\n",
        "\n",
        "def distance(p1, p2):\n",
        "    total = 0\n",
        "    for i in range(len(p1)):\n",
        "        total += (p1[i] - p2[i]) ** 2\n",
        "    return total ** 0.5\n",
        "\n",
        "def knn(test_point, data, k=3):\n",
        "    distances = []\n",
        "    for features, label in data:\n",
        "        dist = distance(test_point, features)\n",
        "        distances.append((dist, label))\n",
        "    distances.sort(key=lambda x: x[0])\n",
        "    neighbors = distances[:k]\n",
        "\n",
        "    labels = [label for _, label in neighbors]\n",
        "    most_common = Counter(labels).most_common(1)[0][0]\n",
        "    return most_common\n",
        "\n",
        "test = [3, 3, 3]\n",
        "print(\"Classified as:\", knn(test, data))\n"
      ],
      "metadata": {
        "colab": {
          "base_uri": "https://localhost:8080/"
        },
        "id": "EXFzwP8qAahF",
        "outputId": "bb2b38c5-7b7e-47be-ad2e-8e799bf33afa"
      },
      "execution_count": 5,
      "outputs": [
        {
          "output_type": "stream",
          "name": "stdout",
          "text": [
            "Classified as: A\n"
          ]
        }
      ]
    },
    {
      "cell_type": "markdown",
      "source": [
        "# **KNN VISUALIZATION FOR 2 FIXED FEATURES**"
      ],
      "metadata": {
        "id": "1sbT7QSfAfGC"
      }
    },
    {
      "cell_type": "code",
      "source": [
        "import matplotlib.pyplot as plt\n",
        "from collections import Counter\n",
        "\n",
        "# Simple 2-feature dataset\n",
        "data = [\n",
        "    ([1, 2], 'A'),\n",
        "    ([2, 3], 'A'),\n",
        "    ([5, 5], 'B'),\n",
        "    ([6, 7], 'B')\n",
        "]\n",
        "\n",
        "def distance(p1, p2):\n",
        "    total = 0\n",
        "    for i in range(len(p1)):\n",
        "        total += (p1[i] - p2[i]) ** 2\n",
        "    return total ** 0.5\n",
        "\n",
        "def knn(test_point, data, k=3):\n",
        "    distances = []\n",
        "    for features, label in data:\n",
        "        dist = distance(test_point, features)\n",
        "        distances.append((dist, label, features))\n",
        "    distances.sort(key=lambda x: x[0])\n",
        "    neighbors = distances[:k]\n",
        "\n",
        "    labels = [label for _, label, _ in neighbors]\n",
        "    prediction = Counter(labels).most_common(1)[0][0]\n",
        "\n",
        "    # Plot all points\n",
        "    for features, label in data:\n",
        "        color = 'red' if label == 'A' else 'blue'\n",
        "        plt.scatter(features[0], features[1], c=color)\n",
        "\n",
        "    # Highlight neighbors with yellow circle\n",
        "    for _, _, features in neighbors:\n",
        "        plt.scatter(features[0], features[1], facecolors='none', edgecolors='yellow', s=200, linewidths=2)\n",
        "\n",
        "    # Plot test point as green star\n",
        "    plt.scatter(test_point[0], test_point[1], c='green', marker='*', s=200)\n",
        "    plt.title(f'Predicted class: {prediction}')\n",
        "    plt.xlabel('Feature 1')\n",
        "    plt.ylabel('Feature 2')\n",
        "    plt.show()\n",
        "\n",
        "    return prediction\n",
        "\n",
        "test_point = [4, 4]\n",
        "print(\"Classified as:\", knn(test_point, data))"
      ],
      "metadata": {
        "colab": {
          "base_uri": "https://localhost:8080/",
          "height": 490
        },
        "id": "8E3ffwDHAr_D",
        "outputId": "52dbff84-b32b-4c9f-88c0-2eebd6eac385"
      },
      "execution_count": 6,
      "outputs": [
        {
          "output_type": "display_data",
          "data": {
            "text/plain": [
              "<Figure size 640x480 with 1 Axes>"
            ],
            "image/png": "[encoded data removed]"
          },
          "metadata": {}
        },
        {
          "output_type": "stream",
          "name": "stdout",
          "text": [
            "Classified as: A\n"
          ]
        }
      ]
    }
  ]
}